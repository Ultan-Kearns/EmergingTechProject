{
 "cells": [
  {
   "cell_type": "markdown",
   "metadata": {},
   "source": [
    "# Emerging Technology Project Notebook "
   ]
  },
  {
   "cell_type": "markdown",
   "metadata": {},
   "source": [
    "## By Ultan Kearns - Student Number G00343745"
   ]
  },
  {
   "cell_type": "markdown",
   "metadata": {},
   "source": [
    "### Introduction\n",
    "The aim of this project is to train a model in Python using Keras to detect a digit drawn on the canvas in a Flask application and to utilize the model to specify which digit has been drawn by the user.  In the introduction section of this project I will outline my research methodology and explain the code I used to start to this application.  "
   ]
  },
  {
   "cell_type": "markdown",
   "metadata": {},
   "source": [
    "    I started out by importing the keras libraries needed for this module as shown below."
   ]
  },
  {
   "cell_type": "code",
   "execution_count": 1,
   "metadata": {},
   "outputs": [
    {
     "name": "stderr",
     "output_type": "stream",
     "text": [
      "Using TensorFlow backend.\n"
     ]
    }
   ],
   "source": [
    "from keras.models import Sequential\n",
    "from keras.layers import Dense"
   ]
  },
  {
   "cell_type": "markdown",
   "metadata": {},
   "source": [
    "The above lines import keras.models and keras.layers both are needed for this project.  According to the keras documentation listed here: https://keras.io/getting-started/sequential-model-guide/ the sequential model is a linear stack of layers, we can add layers to the sequential model using the dense library to set how many layers we wish to use."
   ]
  },
  {
   "cell_type": "markdown",
   "metadata": {},
   "source": [
    "## Beginning to code\n",
    "When starting to code I read through the Keras documentation to gain information about the functionality Keras provides\n",
    "to the user.  I found a lot of very useful information on  how to train my AI and which packages I should import to help\n",
    "me achieve this goal."
   ]
  },
  {
   "cell_type": "code",
   "execution_count": 1,
   "metadata": {},
   "outputs": [
    {
     "name": "stderr",
     "output_type": "stream",
     "text": [
      "Using TensorFlow backend.\n"
     ]
    }
   ],
   "source": [
    "from keras.models import Sequential\n",
    "from keras.layers import Dense\n",
    "import numpy as np\n",
    "from keras.datasets import mnist\n",
    "from keras import losses\n",
    "from keras import optimizers\n",
    "import keras as kr\n"
   ]
  },
  {
   "cell_type": "markdown",
   "metadata": {},
   "source": [
    "The above lines of code import pacakages that are needed to train the AI.  Numpy is needed to generate random test data, keras.datasets imports the MNIST database of images which we need to train the AI, the imports losses and optimizers are needed to train the AI to detect the right images.  Both https://keras.io/datasets/ and https://keras.io/getting-started/sequential-model-guide/ gave me insight into the above code and how to use it to get my image classifier up and running.  I used keras to set up the model and layers and anything associated with the AI and numpy is a package which is for mathematical functions https://docs.scipy.org/doc/numpy/reference/  I may need this to analyse data from models"
   ]
  },
  {
   "cell_type": "markdown",
   "metadata": {},
   "source": [
    "## Researching MNIST\n",
    "When researching MNIST I found out how to define the models here I set the image rows and cols to 28 since an MNIST image is 28*28.  I also defined two layers X & Y which we will train also I addeed an optimizer.  I set up the trainning and test data for the model. Then I added sequential layers which I flattened into the input shape of 28 * 28 for the images.  After messing around with optimizers I found three layers of RELU https://keras.io/activations/#relu and 1 layer of softmax although I may mess around with this to ensure that this is a good setup."
   ]
  },
  {
   "cell_type": "code",
   "execution_count": 1,
   "metadata": {},
   "outputs": [
    {
     "name": "stderr",
     "output_type": "stream",
     "text": [
      "Using TensorFlow backend.\n"
     ]
    }
   ],
   "source": [
    "from keras.models import Sequential\n",
    "from keras.layers import Dense\n",
    "import numpy as np\n",
    "from keras.datasets import mnist\n",
    "from keras import losses\n",
    "from keras import optimizers\n",
    "import keras as kr\n",
    "#since MNIST images have 28*28 resolution\n",
    "#define image rows and columns to be 28\n",
    "image_rows = image_cols = 28\n",
    "#load mnist daata in\n",
    "(x_train, y_train), (x_test, y_test) = mnist.load_data()\n",
    "#Define sequential model https://keras.io/models/model/ - resource taught me about modelss\n",
    "model = kr.Sequential([\n",
    "    #flatten the layers to fit input size\n",
    "    kr.layers.Flatten(input_shape=(image_cols, image_rows)),\n",
    "    #here was basically see give me x neurons\n",
    "    #Used https://keras.io/activations/ to research activations\n",
    "    kr.layers.Dense(64, activation='relu'),\n",
    "    kr.layers.Dense(64, activation='relu'),\n",
    "    kr.layers.Dense(64, activation='relu'),    #research activation functions weird thing happens when switch to relu\n",
    "    kr.layers.Dense(1024, activation='softmax'),\n",
    "])\n"
   ]
  },
  {
   "cell_type": "markdown",
   "metadata": {},
   "source": [
    "# Testing the code\n",
    "I began by trying out different optimizers such as Adam, Adagrad and finally settled on Adadelta.  I also tried various combinations of activation functions which I found here https://keras.io/activations/.  I also tried experimenting with different sample sizes.  I may refactor the final code in this section and explore different choices"
   ]
  },
  {
   "cell_type": "markdown",
   "metadata": {},
   "source": [
    "# Finished Code\n",
    "\n",
    "Once I had all the basics setup then it was time to train and evaluate the model for the flaskGUI so that the model can test and verify which number the user drew on the canvas.  I messed around with optimizers I found on https://keras.io/optimizers/ and found that Adadelta worked the best for this purpose.  I then trained the model for 10 epochs with model.fit and then performed model.evaluate to test the model.\n"
   ]
  },
  {
   "cell_type": "code",
   "execution_count": 3,
   "metadata": {},
   "outputs": [
    {
     "name": "stdout",
     "output_type": "stream",
     "text": [
      "Epoch 1/10\n",
      "60000/60000 [==============================] - 9s 158us/step - loss: 0.5183 - accuracy: 0.8791\n",
      "Epoch 2/10\n",
      "60000/60000 [==============================] - 8s 136us/step - loss: 0.1829 - accuracy: 0.9488\n",
      "Epoch 3/10\n",
      "60000/60000 [==============================] - 8s 138us/step - loss: 0.1444 - accuracy: 0.9596\n",
      "Epoch 4/10\n",
      "60000/60000 [==============================] - 8s 137us/step - loss: 0.1217 - accuracy: 0.9668\n",
      "Epoch 5/10\n",
      "60000/60000 [==============================] - 8s 139us/step - loss: 0.1097 - accuracy: 0.9702\n",
      "Epoch 6/10\n",
      "60000/60000 [==============================] - 8s 138us/step - loss: 0.0976 - accuracy: 0.9742\n",
      "Epoch 7/10\n",
      "60000/60000 [==============================] - 9s 142us/step - loss: 0.0927 - accuracy: 0.9754\n",
      "Epoch 8/10\n",
      "60000/60000 [==============================] - 8s 137us/step - loss: 0.0841 - accuracy: 0.9776\n",
      "Epoch 9/10\n",
      "60000/60000 [==============================] - 9s 142us/step - loss: 0.0782 - accuracy: 0.9798\n",
      "Epoch 10/10\n",
      "60000/60000 [==============================] - 8s 141us/step - loss: 0.0720 - accuracy: 0.9816\n"
     ]
    }
   ],
   "source": [
    "from keras.models import Sequential\n",
    "from keras.layers import Dense\n",
    "import numpy as np\n",
    "from keras.datasets import mnist\n",
    "from keras import losses\n",
    "from keras import optimizers\n",
    "import keras as kr\n",
    "#since MNIST images have 28*28 resolution\n",
    "#define image rows and columns to be 28\n",
    "image_rows = image_cols = 28\n",
    "#load mnist daata in\n",
    "(x_train, y_train), (x_test, y_test) = mnist.load_data()\n",
    "#Define sequential model https://keras.io/models/model/ - resource taught me about modelss\n",
    "model = kr.Sequential([\n",
    "    #flatten the layers to fit input size\n",
    "    kr.layers.Flatten(input_shape=(image_cols, image_rows)),\n",
    "    #here was basically see give me x neurons\n",
    "    #Used https://keras.io/activations/ to research activations\n",
    "    kr.layers.Dense(64, activation='relu'),\n",
    "    kr.layers.Dense(64, activation='relu'),\n",
    "    kr.layers.Dense(64, activation='relu'),    #research activation functions weird thing happens when switch to relu\n",
    "    kr.layers.Dense(1024, activation='softmax'),\n",
    "])\n",
    "#here we compile the model\n",
    "#Optimzers - compared optimizers at https://keras.io/optimizers/\n",
    "model.compile(optimizer='Adadelta',\n",
    "              loss='sparse_categorical_crossentropy',\n",
    "              metrics=['accuracy'])\n",
    "#here we will train the model using training set and testing for x epochs\n",
    "model.fit(x_train,y_train,epochs=10)\n",
    "#score based on test models - determine accuracy of the model\n",
    "score = model.evaluate(x_test, y_test, verbose=0)\n"
   ]
  },
  {
   "cell_type": "code",
   "execution_count": null,
   "metadata": {},
   "outputs": [],
   "source": []
  }
 ],
 "metadata": {
  "kernelspec": {
   "display_name": "Python 3",
   "language": "python",
   "name": "python3"
  },
  "language_info": {
   "codemirror_mode": {
    "name": "ipython",
    "version": 3
   },
   "file_extension": ".py",
   "mimetype": "text/x-python",
   "name": "python",
   "nbconvert_exporter": "python",
   "pygments_lexer": "ipython3",
   "version": "3.7.3"
  }
 },
 "nbformat": 4,
 "nbformat_minor": 2
}
